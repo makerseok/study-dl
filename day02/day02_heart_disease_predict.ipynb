{
  "nbformat": 4,
  "nbformat_minor": 0,
  "metadata": {
    "colab": {
      "name": "day2_heart_disease_predict.ipynb",
      "provenance": [],
      "collapsed_sections": [],
      "authorship_tag": "ABX9TyMk7cu32IfingRaGPxdQYFc",
      "include_colab_link": true
    },
    "kernelspec": {
      "name": "python3",
      "display_name": "Python 3"
    },
    "language_info": {
      "name": "python"
    },
    "accelerator": "GPU"
  },
  "cells": [
    {
      "cell_type": "markdown",
      "metadata": {
        "id": "view-in-github",
        "colab_type": "text"
      },
      "source": [
        "<a href=\"https://colab.research.google.com/github/makerseok/study-dl/blob/main/day02/day2_heart_disease_predict.ipynb\" target=\"_parent\"><img src=\"https://colab.research.google.com/assets/colab-badge.svg\" alt=\"Open In Colab\"/></a>"
      ]
    },
    {
      "cell_type": "code",
      "metadata": {
        "id": "WIg6S-QPZtbO"
      },
      "source": [
        "import pandas as pd\n",
        "import numpy as np\n",
        "import matplotlib.pyplot as plt\n",
        "from tensorflow.keras.models import Sequential\n",
        "from tensorflow.keras.layers import Dense, Dropout"
      ],
      "execution_count": null,
      "outputs": []
    },
    {
      "cell_type": "markdown",
      "metadata": {
        "id": "Kx_QJ6XajzKu"
      },
      "source": [
        "### 데이터 로드"
      ]
    },
    {
      "cell_type": "code",
      "metadata": {
        "colab": {
          "base_uri": "https://localhost:8080/",
          "height": 419
        },
        "id": "9OKWLyNaevK5",
        "outputId": "3b510409-6719-4e18-ffaa-d184a999cac8"
      },
      "source": [
        "column_name = ['age', 'sex', 'cp', 'treshbps', 'chol', 'fbs', 'restecg', 'thalach', 'exang', 'oldpeak', 'slope', 'ca', 'hsl', 'HeartDisease']\n",
        "raw_data = pd.read_excel('/content/heart-disease.xlsx', header=None, names=column_name)\n",
        "raw_data"
      ],
      "execution_count": null,
      "outputs": [
        {
          "output_type": "execute_result",
          "data": {
            "text/html": [
              "<div>\n",
              "<style scoped>\n",
              "    .dataframe tbody tr th:only-of-type {\n",
              "        vertical-align: middle;\n",
              "    }\n",
              "\n",
              "    .dataframe tbody tr th {\n",
              "        vertical-align: top;\n",
              "    }\n",
              "\n",
              "    .dataframe thead th {\n",
              "        text-align: right;\n",
              "    }\n",
              "</style>\n",
              "<table border=\"1\" class=\"dataframe\">\n",
              "  <thead>\n",
              "    <tr style=\"text-align: right;\">\n",
              "      <th></th>\n",
              "      <th>age</th>\n",
              "      <th>sex</th>\n",
              "      <th>cp</th>\n",
              "      <th>treshbps</th>\n",
              "      <th>chol</th>\n",
              "      <th>fbs</th>\n",
              "      <th>restecg</th>\n",
              "      <th>thalach</th>\n",
              "      <th>exang</th>\n",
              "      <th>oldpeak</th>\n",
              "      <th>slope</th>\n",
              "      <th>ca</th>\n",
              "      <th>hsl</th>\n",
              "      <th>HeartDisease</th>\n",
              "    </tr>\n",
              "  </thead>\n",
              "  <tbody>\n",
              "    <tr>\n",
              "      <th>0</th>\n",
              "      <td>63</td>\n",
              "      <td>1</td>\n",
              "      <td>1</td>\n",
              "      <td>145</td>\n",
              "      <td>233</td>\n",
              "      <td>1</td>\n",
              "      <td>2</td>\n",
              "      <td>150</td>\n",
              "      <td>0</td>\n",
              "      <td>2.3</td>\n",
              "      <td>3</td>\n",
              "      <td>0</td>\n",
              "      <td>6</td>\n",
              "      <td>0</td>\n",
              "    </tr>\n",
              "    <tr>\n",
              "      <th>1</th>\n",
              "      <td>67</td>\n",
              "      <td>1</td>\n",
              "      <td>4</td>\n",
              "      <td>160</td>\n",
              "      <td>286</td>\n",
              "      <td>0</td>\n",
              "      <td>0</td>\n",
              "      <td>108</td>\n",
              "      <td>1</td>\n",
              "      <td>1.5</td>\n",
              "      <td>2</td>\n",
              "      <td>3</td>\n",
              "      <td>3</td>\n",
              "      <td>1</td>\n",
              "    </tr>\n",
              "    <tr>\n",
              "      <th>2</th>\n",
              "      <td>67</td>\n",
              "      <td>1</td>\n",
              "      <td>4</td>\n",
              "      <td>120</td>\n",
              "      <td>?</td>\n",
              "      <td>0</td>\n",
              "      <td>2</td>\n",
              "      <td>129</td>\n",
              "      <td>1</td>\n",
              "      <td>2.6</td>\n",
              "      <td>2</td>\n",
              "      <td>2</td>\n",
              "      <td>7</td>\n",
              "      <td>1</td>\n",
              "    </tr>\n",
              "    <tr>\n",
              "      <th>3</th>\n",
              "      <td>37</td>\n",
              "      <td>1</td>\n",
              "      <td>3</td>\n",
              "      <td>130</td>\n",
              "      <td>250</td>\n",
              "      <td>0</td>\n",
              "      <td>0</td>\n",
              "      <td>187</td>\n",
              "      <td>0</td>\n",
              "      <td>3.5</td>\n",
              "      <td>3</td>\n",
              "      <td>0</td>\n",
              "      <td>3</td>\n",
              "      <td>0</td>\n",
              "    </tr>\n",
              "    <tr>\n",
              "      <th>4</th>\n",
              "      <td>41</td>\n",
              "      <td>0</td>\n",
              "      <td>2</td>\n",
              "      <td>130</td>\n",
              "      <td>204</td>\n",
              "      <td>0</td>\n",
              "      <td>2</td>\n",
              "      <td>172</td>\n",
              "      <td>0</td>\n",
              "      <td>1.4</td>\n",
              "      <td>1</td>\n",
              "      <td>0</td>\n",
              "      <td>3</td>\n",
              "      <td>0</td>\n",
              "    </tr>\n",
              "    <tr>\n",
              "      <th>...</th>\n",
              "      <td>...</td>\n",
              "      <td>...</td>\n",
              "      <td>...</td>\n",
              "      <td>...</td>\n",
              "      <td>...</td>\n",
              "      <td>...</td>\n",
              "      <td>...</td>\n",
              "      <td>...</td>\n",
              "      <td>...</td>\n",
              "      <td>...</td>\n",
              "      <td>...</td>\n",
              "      <td>...</td>\n",
              "      <td>...</td>\n",
              "      <td>...</td>\n",
              "    </tr>\n",
              "    <tr>\n",
              "      <th>298</th>\n",
              "      <td>45</td>\n",
              "      <td>1</td>\n",
              "      <td>1</td>\n",
              "      <td>110</td>\n",
              "      <td>264</td>\n",
              "      <td>0</td>\n",
              "      <td>0</td>\n",
              "      <td>132</td>\n",
              "      <td>0</td>\n",
              "      <td>1.2</td>\n",
              "      <td>2</td>\n",
              "      <td>0</td>\n",
              "      <td>7</td>\n",
              "      <td>1</td>\n",
              "    </tr>\n",
              "    <tr>\n",
              "      <th>299</th>\n",
              "      <td>68</td>\n",
              "      <td>1</td>\n",
              "      <td>4</td>\n",
              "      <td>144</td>\n",
              "      <td>193</td>\n",
              "      <td>1</td>\n",
              "      <td>0</td>\n",
              "      <td>141</td>\n",
              "      <td>0</td>\n",
              "      <td>3.4</td>\n",
              "      <td>2</td>\n",
              "      <td>2</td>\n",
              "      <td>7</td>\n",
              "      <td>1</td>\n",
              "    </tr>\n",
              "    <tr>\n",
              "      <th>300</th>\n",
              "      <td>57</td>\n",
              "      <td>1</td>\n",
              "      <td>4</td>\n",
              "      <td>130</td>\n",
              "      <td>131</td>\n",
              "      <td>0</td>\n",
              "      <td>0</td>\n",
              "      <td>115</td>\n",
              "      <td>1</td>\n",
              "      <td>1.2</td>\n",
              "      <td>2</td>\n",
              "      <td>1</td>\n",
              "      <td>7</td>\n",
              "      <td>1</td>\n",
              "    </tr>\n",
              "    <tr>\n",
              "      <th>301</th>\n",
              "      <td>57</td>\n",
              "      <td>0</td>\n",
              "      <td>2</td>\n",
              "      <td>130</td>\n",
              "      <td>236</td>\n",
              "      <td>0</td>\n",
              "      <td>2</td>\n",
              "      <td>174</td>\n",
              "      <td>0</td>\n",
              "      <td>0.0</td>\n",
              "      <td>2</td>\n",
              "      <td>1</td>\n",
              "      <td>3</td>\n",
              "      <td>1</td>\n",
              "    </tr>\n",
              "    <tr>\n",
              "      <th>302</th>\n",
              "      <td>38</td>\n",
              "      <td>1</td>\n",
              "      <td>3</td>\n",
              "      <td>138</td>\n",
              "      <td>175</td>\n",
              "      <td>0</td>\n",
              "      <td>0</td>\n",
              "      <td>173</td>\n",
              "      <td>0</td>\n",
              "      <td>0.0</td>\n",
              "      <td>1</td>\n",
              "      <td>?</td>\n",
              "      <td>3</td>\n",
              "      <td>0</td>\n",
              "    </tr>\n",
              "  </tbody>\n",
              "</table>\n",
              "<p>303 rows × 14 columns</p>\n",
              "</div>"
            ],
            "text/plain": [
              "     age  sex  cp  treshbps chol  ...  oldpeak  slope  ca  hsl  HeartDisease\n",
              "0     63    1   1       145  233  ...      2.3      3   0    6             0\n",
              "1     67    1   4       160  286  ...      1.5      2   3    3             1\n",
              "2     67    1   4       120    ?  ...      2.6      2   2    7             1\n",
              "3     37    1   3       130  250  ...      3.5      3   0    3             0\n",
              "4     41    0   2       130  204  ...      1.4      1   0    3             0\n",
              "..   ...  ...  ..       ...  ...  ...      ...    ...  ..  ...           ...\n",
              "298   45    1   1       110  264  ...      1.2      2   0    7             1\n",
              "299   68    1   4       144  193  ...      3.4      2   2    7             1\n",
              "300   57    1   4       130  131  ...      1.2      2   1    7             1\n",
              "301   57    0   2       130  236  ...      0.0      2   1    3             1\n",
              "302   38    1   3       138  175  ...      0.0      1   ?    3             0\n",
              "\n",
              "[303 rows x 14 columns]"
            ]
          },
          "metadata": {
            "tags": []
          },
          "execution_count": 25
        }
      ]
    },
    {
      "cell_type": "code",
      "metadata": {
        "colab": {
          "base_uri": "https://localhost:8080/",
          "height": 297
        },
        "id": "aZ4UJ3bxfrVt",
        "outputId": "aded9ab0-6fec-491b-b031-c54a3986ca34"
      },
      "source": [
        "raw_data.describe()"
      ],
      "execution_count": null,
      "outputs": [
        {
          "output_type": "execute_result",
          "data": {
            "text/html": [
              "<div>\n",
              "<style scoped>\n",
              "    .dataframe tbody tr th:only-of-type {\n",
              "        vertical-align: middle;\n",
              "    }\n",
              "\n",
              "    .dataframe tbody tr th {\n",
              "        vertical-align: top;\n",
              "    }\n",
              "\n",
              "    .dataframe thead th {\n",
              "        text-align: right;\n",
              "    }\n",
              "</style>\n",
              "<table border=\"1\" class=\"dataframe\">\n",
              "  <thead>\n",
              "    <tr style=\"text-align: right;\">\n",
              "      <th></th>\n",
              "      <th>age</th>\n",
              "      <th>sex</th>\n",
              "      <th>cp</th>\n",
              "      <th>treshbps</th>\n",
              "      <th>fbs</th>\n",
              "      <th>restecg</th>\n",
              "      <th>thalach</th>\n",
              "      <th>exang</th>\n",
              "      <th>oldpeak</th>\n",
              "      <th>slope</th>\n",
              "      <th>HeartDisease</th>\n",
              "    </tr>\n",
              "  </thead>\n",
              "  <tbody>\n",
              "    <tr>\n",
              "      <th>count</th>\n",
              "      <td>303.000000</td>\n",
              "      <td>303.000000</td>\n",
              "      <td>303.000000</td>\n",
              "      <td>303.000000</td>\n",
              "      <td>303.000000</td>\n",
              "      <td>303.000000</td>\n",
              "      <td>303.000000</td>\n",
              "      <td>303.000000</td>\n",
              "      <td>303.000000</td>\n",
              "      <td>303.000000</td>\n",
              "      <td>303.000000</td>\n",
              "    </tr>\n",
              "    <tr>\n",
              "      <th>mean</th>\n",
              "      <td>54.438944</td>\n",
              "      <td>0.679868</td>\n",
              "      <td>3.158416</td>\n",
              "      <td>131.689769</td>\n",
              "      <td>0.148515</td>\n",
              "      <td>0.983498</td>\n",
              "      <td>149.607261</td>\n",
              "      <td>0.326733</td>\n",
              "      <td>1.039604</td>\n",
              "      <td>1.600660</td>\n",
              "      <td>0.458746</td>\n",
              "    </tr>\n",
              "    <tr>\n",
              "      <th>std</th>\n",
              "      <td>9.038662</td>\n",
              "      <td>0.467299</td>\n",
              "      <td>0.960126</td>\n",
              "      <td>17.599748</td>\n",
              "      <td>0.356198</td>\n",
              "      <td>0.994883</td>\n",
              "      <td>22.875003</td>\n",
              "      <td>0.469794</td>\n",
              "      <td>1.161075</td>\n",
              "      <td>0.616226</td>\n",
              "      <td>0.499120</td>\n",
              "    </tr>\n",
              "    <tr>\n",
              "      <th>min</th>\n",
              "      <td>29.000000</td>\n",
              "      <td>0.000000</td>\n",
              "      <td>1.000000</td>\n",
              "      <td>94.000000</td>\n",
              "      <td>0.000000</td>\n",
              "      <td>0.000000</td>\n",
              "      <td>71.000000</td>\n",
              "      <td>0.000000</td>\n",
              "      <td>0.000000</td>\n",
              "      <td>1.000000</td>\n",
              "      <td>0.000000</td>\n",
              "    </tr>\n",
              "    <tr>\n",
              "      <th>25%</th>\n",
              "      <td>48.000000</td>\n",
              "      <td>0.000000</td>\n",
              "      <td>3.000000</td>\n",
              "      <td>120.000000</td>\n",
              "      <td>0.000000</td>\n",
              "      <td>0.000000</td>\n",
              "      <td>133.500000</td>\n",
              "      <td>0.000000</td>\n",
              "      <td>0.000000</td>\n",
              "      <td>1.000000</td>\n",
              "      <td>0.000000</td>\n",
              "    </tr>\n",
              "    <tr>\n",
              "      <th>50%</th>\n",
              "      <td>56.000000</td>\n",
              "      <td>1.000000</td>\n",
              "      <td>3.000000</td>\n",
              "      <td>130.000000</td>\n",
              "      <td>0.000000</td>\n",
              "      <td>0.000000</td>\n",
              "      <td>153.000000</td>\n",
              "      <td>0.000000</td>\n",
              "      <td>0.800000</td>\n",
              "      <td>2.000000</td>\n",
              "      <td>0.000000</td>\n",
              "    </tr>\n",
              "    <tr>\n",
              "      <th>75%</th>\n",
              "      <td>61.000000</td>\n",
              "      <td>1.000000</td>\n",
              "      <td>4.000000</td>\n",
              "      <td>140.000000</td>\n",
              "      <td>0.000000</td>\n",
              "      <td>2.000000</td>\n",
              "      <td>166.000000</td>\n",
              "      <td>1.000000</td>\n",
              "      <td>1.600000</td>\n",
              "      <td>2.000000</td>\n",
              "      <td>1.000000</td>\n",
              "    </tr>\n",
              "    <tr>\n",
              "      <th>max</th>\n",
              "      <td>77.000000</td>\n",
              "      <td>1.000000</td>\n",
              "      <td>4.000000</td>\n",
              "      <td>200.000000</td>\n",
              "      <td>1.000000</td>\n",
              "      <td>2.000000</td>\n",
              "      <td>202.000000</td>\n",
              "      <td>1.000000</td>\n",
              "      <td>6.200000</td>\n",
              "      <td>3.000000</td>\n",
              "      <td>1.000000</td>\n",
              "    </tr>\n",
              "  </tbody>\n",
              "</table>\n",
              "</div>"
            ],
            "text/plain": [
              "              age         sex          cp  ...     oldpeak       slope  HeartDisease\n",
              "count  303.000000  303.000000  303.000000  ...  303.000000  303.000000    303.000000\n",
              "mean    54.438944    0.679868    3.158416  ...    1.039604    1.600660      0.458746\n",
              "std      9.038662    0.467299    0.960126  ...    1.161075    0.616226      0.499120\n",
              "min     29.000000    0.000000    1.000000  ...    0.000000    1.000000      0.000000\n",
              "25%     48.000000    0.000000    3.000000  ...    0.000000    1.000000      0.000000\n",
              "50%     56.000000    1.000000    3.000000  ...    0.800000    2.000000      0.000000\n",
              "75%     61.000000    1.000000    4.000000  ...    1.600000    2.000000      1.000000\n",
              "max     77.000000    1.000000    4.000000  ...    6.200000    3.000000      1.000000\n",
              "\n",
              "[8 rows x 11 columns]"
            ]
          },
          "metadata": {
            "tags": []
          },
          "execution_count": 26
        }
      ]
    },
    {
      "cell_type": "code",
      "metadata": {
        "colab": {
          "base_uri": "https://localhost:8080/"
        },
        "id": "9kMAm3CVhq0G",
        "outputId": "5aecba11-bbdc-4c34-b152-425b627f884b"
      },
      "source": [
        "raw_data.info()"
      ],
      "execution_count": null,
      "outputs": [
        {
          "output_type": "stream",
          "text": [
            "<class 'pandas.core.frame.DataFrame'>\n",
            "RangeIndex: 303 entries, 0 to 302\n",
            "Data columns (total 14 columns):\n",
            " #   Column        Non-Null Count  Dtype  \n",
            "---  ------        --------------  -----  \n",
            " 0   age           303 non-null    int64  \n",
            " 1   sex           303 non-null    int64  \n",
            " 2   cp            303 non-null    int64  \n",
            " 3   treshbps      303 non-null    int64  \n",
            " 4   chol          303 non-null    object \n",
            " 5   fbs           303 non-null    int64  \n",
            " 6   restecg       303 non-null    int64  \n",
            " 7   thalach       303 non-null    int64  \n",
            " 8   exang         303 non-null    int64  \n",
            " 9   oldpeak       303 non-null    float64\n",
            " 10  slope         303 non-null    int64  \n",
            " 11  ca            303 non-null    object \n",
            " 12  hsl           303 non-null    object \n",
            " 13  HeartDisease  303 non-null    int64  \n",
            "dtypes: float64(1), int64(10), object(3)\n",
            "memory usage: 33.3+ KB\n"
          ],
          "name": "stdout"
        }
      ]
    },
    {
      "cell_type": "markdown",
      "metadata": {
        "id": "tGh7zTvnj2ua"
      },
      "source": [
        "### 결측지 제거"
      ]
    },
    {
      "cell_type": "code",
      "metadata": {
        "colab": {
          "base_uri": "https://localhost:8080/"
        },
        "id": "_uuZruR8hwM9",
        "outputId": "3df1750d-23b0-4e8f-f9ee-20122e0ab2d6"
      },
      "source": [
        "clean_data = raw_data.replace('?', np.nan)\n",
        "clean_data = clean_data.dropna()\n",
        "clean_data.info()"
      ],
      "execution_count": null,
      "outputs": [
        {
          "output_type": "stream",
          "text": [
            "<class 'pandas.core.frame.DataFrame'>\n",
            "Int64Index: 296 entries, 0 to 301\n",
            "Data columns (total 14 columns):\n",
            " #   Column        Non-Null Count  Dtype  \n",
            "---  ------        --------------  -----  \n",
            " 0   age           296 non-null    int64  \n",
            " 1   sex           296 non-null    int64  \n",
            " 2   cp            296 non-null    int64  \n",
            " 3   treshbps      296 non-null    int64  \n",
            " 4   chol          296 non-null    float64\n",
            " 5   fbs           296 non-null    int64  \n",
            " 6   restecg       296 non-null    int64  \n",
            " 7   thalach       296 non-null    int64  \n",
            " 8   exang         296 non-null    int64  \n",
            " 9   oldpeak       296 non-null    float64\n",
            " 10  slope         296 non-null    int64  \n",
            " 11  ca            296 non-null    float64\n",
            " 12  hsl           296 non-null    float64\n",
            " 13  HeartDisease  296 non-null    int64  \n",
            "dtypes: float64(4), int64(10)\n",
            "memory usage: 34.7 KB\n"
          ],
          "name": "stdout"
        }
      ]
    },
    {
      "cell_type": "markdown",
      "metadata": {
        "id": "QtkmLG6hksfG"
      },
      "source": [
        "### feature, target 분할"
      ]
    },
    {
      "cell_type": "code",
      "metadata": {
        "colab": {
          "base_uri": "https://localhost:8080/"
        },
        "id": "gYWYy9vTiy0r",
        "outputId": "c6e46b1e-50b3-4382-d4bf-892372aea2b6"
      },
      "source": [
        "# 가장 끝 값 꺼내옴\n",
        "keep = column_name.pop()\n",
        "print(keep)\n",
        "print(column_name)"
      ],
      "execution_count": null,
      "outputs": [
        {
          "output_type": "stream",
          "text": [
            "HeartDisease\n",
            "['age', 'sex', 'cp', 'treshbps', 'chol', 'fbs', 'restecg', 'thalach', 'exang', 'oldpeak', 'slope', 'ca', 'hsl']\n"
          ],
          "name": "stdout"
        }
      ]
    },
    {
      "cell_type": "code",
      "metadata": {
        "colab": {
          "base_uri": "https://localhost:8080/"
        },
        "id": "3FIaZ95LjKYu",
        "outputId": "466851d3-c6c9-4174-8d08-7c34bc7cd14e"
      },
      "source": [
        "# feature, target 분할\n",
        "feature = clean_data[column_name]\n",
        "target = clean_data[[keep]]\n",
        "feature.shape, target.shape"
      ],
      "execution_count": null,
      "outputs": [
        {
          "output_type": "execute_result",
          "data": {
            "text/plain": [
              "((296, 13), (296, 1))"
            ]
          },
          "metadata": {
            "tags": []
          },
          "execution_count": 30
        }
      ]
    },
    {
      "cell_type": "code",
      "metadata": {
        "colab": {
          "base_uri": "https://localhost:8080/"
        },
        "id": "WOicajoIkhOr",
        "outputId": "13570b26-8be1-4e83-9e68-d0d0fe0f06fe"
      },
      "source": [
        "print(target.sum())\n",
        "print(target.mean())"
      ],
      "execution_count": null,
      "outputs": [
        {
          "output_type": "stream",
          "text": [
            "HeartDisease    136\n",
            "dtype: int64\n",
            "HeartDisease    0.459459\n",
            "dtype: float64\n"
          ],
          "name": "stdout"
        }
      ]
    },
    {
      "cell_type": "markdown",
      "metadata": {
        "id": "l59y47a2nl_s"
      },
      "source": [
        "### feature scaling"
      ]
    },
    {
      "cell_type": "code",
      "metadata": {
        "id": "RZpgL3Lklfp6"
      },
      "source": [
        "from sklearn.preprocessing import StandardScaler"
      ],
      "execution_count": null,
      "outputs": []
    },
    {
      "cell_type": "code",
      "metadata": {
        "colab": {
          "base_uri": "https://localhost:8080/",
          "height": 419
        },
        "id": "F4GP5FcnniJD",
        "outputId": "72c55aab-ba90-4f49-e2cc-78dd7f27d2a1"
      },
      "source": [
        "scaler = StandardScaler()\n",
        "scaled_feature = scaler.fit_transform(feature)\n",
        "scaled_feature = pd.DataFrame(scaled_feature, columns=column_name)\n",
        "scaled_feature"
      ],
      "execution_count": null,
      "outputs": [
        {
          "output_type": "execute_result",
          "data": {
            "text/html": [
              "<div>\n",
              "<style scoped>\n",
              "    .dataframe tbody tr th:only-of-type {\n",
              "        vertical-align: middle;\n",
              "    }\n",
              "\n",
              "    .dataframe tbody tr th {\n",
              "        vertical-align: top;\n",
              "    }\n",
              "\n",
              "    .dataframe thead th {\n",
              "        text-align: right;\n",
              "    }\n",
              "</style>\n",
              "<table border=\"1\" class=\"dataframe\">\n",
              "  <thead>\n",
              "    <tr style=\"text-align: right;\">\n",
              "      <th></th>\n",
              "      <th>age</th>\n",
              "      <th>sex</th>\n",
              "      <th>cp</th>\n",
              "      <th>treshbps</th>\n",
              "      <th>chol</th>\n",
              "      <th>fbs</th>\n",
              "      <th>restecg</th>\n",
              "      <th>thalach</th>\n",
              "      <th>exang</th>\n",
              "      <th>oldpeak</th>\n",
              "      <th>slope</th>\n",
              "      <th>ca</th>\n",
              "      <th>hsl</th>\n",
              "    </tr>\n",
              "  </thead>\n",
              "  <tbody>\n",
              "    <tr>\n",
              "      <th>0</th>\n",
              "      <td>0.942285</td>\n",
              "      <td>0.692820</td>\n",
              "      <td>-2.236793</td>\n",
              "      <td>0.747441</td>\n",
              "      <td>-0.277228</td>\n",
              "      <td>2.425638</td>\n",
              "      <td>1.020526</td>\n",
              "      <td>0.014451</td>\n",
              "      <td>-0.692820</td>\n",
              "      <td>1.074839</td>\n",
              "      <td>2.264087</td>\n",
              "      <td>-0.718421</td>\n",
              "      <td>0.660262</td>\n",
              "    </tr>\n",
              "    <tr>\n",
              "      <th>1</th>\n",
              "      <td>1.385714</td>\n",
              "      <td>0.692820</td>\n",
              "      <td>0.876486</td>\n",
              "      <td>1.592523</td>\n",
              "      <td>0.742265</td>\n",
              "      <td>-0.412263</td>\n",
              "      <td>-0.993312</td>\n",
              "      <td>-1.818794</td>\n",
              "      <td>1.443376</td>\n",
              "      <td>0.386756</td>\n",
              "      <td>0.645320</td>\n",
              "      <td>2.487397</td>\n",
              "      <td>-0.890830</td>\n",
              "    </tr>\n",
              "    <tr>\n",
              "      <th>2</th>\n",
              "      <td>-1.939999</td>\n",
              "      <td>0.692820</td>\n",
              "      <td>-0.161274</td>\n",
              "      <td>-0.097641</td>\n",
              "      <td>0.049779</td>\n",
              "      <td>-0.412263</td>\n",
              "      <td>-0.993312</td>\n",
              "      <td>1.629453</td>\n",
              "      <td>-0.692820</td>\n",
              "      <td>2.106963</td>\n",
              "      <td>2.264087</td>\n",
              "      <td>-0.718421</td>\n",
              "      <td>-0.890830</td>\n",
              "    </tr>\n",
              "    <tr>\n",
              "      <th>3</th>\n",
              "      <td>-1.496571</td>\n",
              "      <td>-1.443376</td>\n",
              "      <td>-1.199033</td>\n",
              "      <td>-0.097641</td>\n",
              "      <td>-0.835064</td>\n",
              "      <td>-0.412263</td>\n",
              "      <td>1.020526</td>\n",
              "      <td>0.974723</td>\n",
              "      <td>-0.692820</td>\n",
              "      <td>0.300746</td>\n",
              "      <td>-0.973448</td>\n",
              "      <td>-0.718421</td>\n",
              "      <td>-0.890830</td>\n",
              "    </tr>\n",
              "    <tr>\n",
              "      <th>4</th>\n",
              "      <td>0.166286</td>\n",
              "      <td>0.692820</td>\n",
              "      <td>-1.199033</td>\n",
              "      <td>-0.661029</td>\n",
              "      <td>-0.219521</td>\n",
              "      <td>-0.412263</td>\n",
              "      <td>-0.993312</td>\n",
              "      <td>1.236615</td>\n",
              "      <td>-0.692820</td>\n",
              "      <td>-0.215316</td>\n",
              "      <td>-0.973448</td>\n",
              "      <td>-0.718421</td>\n",
              "      <td>-0.890830</td>\n",
              "    </tr>\n",
              "    <tr>\n",
              "      <th>...</th>\n",
              "      <td>...</td>\n",
              "      <td>...</td>\n",
              "      <td>...</td>\n",
              "      <td>...</td>\n",
              "      <td>...</td>\n",
              "      <td>...</td>\n",
              "      <td>...</td>\n",
              "      <td>...</td>\n",
              "      <td>...</td>\n",
              "      <td>...</td>\n",
              "      <td>...</td>\n",
              "      <td>...</td>\n",
              "      <td>...</td>\n",
              "    </tr>\n",
              "    <tr>\n",
              "      <th>291</th>\n",
              "      <td>0.277143</td>\n",
              "      <td>-1.443376</td>\n",
              "      <td>0.876486</td>\n",
              "      <td>0.465747</td>\n",
              "      <td>-0.123343</td>\n",
              "      <td>-0.412263</td>\n",
              "      <td>-0.993312</td>\n",
              "      <td>-1.164064</td>\n",
              "      <td>1.443376</td>\n",
              "      <td>-0.731379</td>\n",
              "      <td>0.645320</td>\n",
              "      <td>-0.718421</td>\n",
              "      <td>1.177293</td>\n",
              "    </tr>\n",
              "    <tr>\n",
              "      <th>292</th>\n",
              "      <td>-1.053142</td>\n",
              "      <td>0.692820</td>\n",
              "      <td>-2.236793</td>\n",
              "      <td>-1.224417</td>\n",
              "      <td>0.319079</td>\n",
              "      <td>-0.412263</td>\n",
              "      <td>-0.993312</td>\n",
              "      <td>-0.771225</td>\n",
              "      <td>-0.692820</td>\n",
              "      <td>0.128725</td>\n",
              "      <td>0.645320</td>\n",
              "      <td>-0.718421</td>\n",
              "      <td>1.177293</td>\n",
              "    </tr>\n",
              "    <tr>\n",
              "      <th>293</th>\n",
              "      <td>1.496571</td>\n",
              "      <td>0.692820</td>\n",
              "      <td>0.876486</td>\n",
              "      <td>0.691102</td>\n",
              "      <td>-1.046657</td>\n",
              "      <td>2.425638</td>\n",
              "      <td>-0.993312</td>\n",
              "      <td>-0.378387</td>\n",
              "      <td>-0.692820</td>\n",
              "      <td>2.020953</td>\n",
              "      <td>0.645320</td>\n",
              "      <td>1.418791</td>\n",
              "      <td>1.177293</td>\n",
              "    </tr>\n",
              "    <tr>\n",
              "      <th>294</th>\n",
              "      <td>0.277143</td>\n",
              "      <td>0.692820</td>\n",
              "      <td>0.876486</td>\n",
              "      <td>-0.097641</td>\n",
              "      <td>-2.239272</td>\n",
              "      <td>-0.412263</td>\n",
              "      <td>-0.993312</td>\n",
              "      <td>-1.513253</td>\n",
              "      <td>1.443376</td>\n",
              "      <td>0.128725</td>\n",
              "      <td>0.645320</td>\n",
              "      <td>0.350185</td>\n",
              "      <td>1.177293</td>\n",
              "    </tr>\n",
              "    <tr>\n",
              "      <th>295</th>\n",
              "      <td>0.277143</td>\n",
              "      <td>-1.443376</td>\n",
              "      <td>-1.199033</td>\n",
              "      <td>-0.097641</td>\n",
              "      <td>-0.219521</td>\n",
              "      <td>-0.412263</td>\n",
              "      <td>1.020526</td>\n",
              "      <td>1.062020</td>\n",
              "      <td>-0.692820</td>\n",
              "      <td>-0.903399</td>\n",
              "      <td>0.645320</td>\n",
              "      <td>0.350185</td>\n",
              "      <td>-0.890830</td>\n",
              "    </tr>\n",
              "  </tbody>\n",
              "</table>\n",
              "<p>296 rows × 13 columns</p>\n",
              "</div>"
            ],
            "text/plain": [
              "          age       sex        cp  ...     slope        ca       hsl\n",
              "0    0.942285  0.692820 -2.236793  ...  2.264087 -0.718421  0.660262\n",
              "1    1.385714  0.692820  0.876486  ...  0.645320  2.487397 -0.890830\n",
              "2   -1.939999  0.692820 -0.161274  ...  2.264087 -0.718421 -0.890830\n",
              "3   -1.496571 -1.443376 -1.199033  ... -0.973448 -0.718421 -0.890830\n",
              "4    0.166286  0.692820 -1.199033  ... -0.973448 -0.718421 -0.890830\n",
              "..        ...       ...       ...  ...       ...       ...       ...\n",
              "291  0.277143 -1.443376  0.876486  ...  0.645320 -0.718421  1.177293\n",
              "292 -1.053142  0.692820 -2.236793  ...  0.645320 -0.718421  1.177293\n",
              "293  1.496571  0.692820  0.876486  ...  0.645320  1.418791  1.177293\n",
              "294  0.277143  0.692820  0.876486  ...  0.645320  0.350185  1.177293\n",
              "295  0.277143 -1.443376 -1.199033  ...  0.645320  0.350185 -0.890830\n",
              "\n",
              "[296 rows x 13 columns]"
            ]
          },
          "metadata": {
            "tags": []
          },
          "execution_count": 33
        }
      ]
    },
    {
      "cell_type": "code",
      "metadata": {
        "colab": {
          "base_uri": "https://localhost:8080/",
          "height": 452
        },
        "id": "sqVhJfwVoS0N",
        "outputId": "123d5d74-6139-4c28-d9f0-cd373b7c4576"
      },
      "source": [
        "scaled_feature.describe().T"
      ],
      "execution_count": null,
      "outputs": [
        {
          "output_type": "execute_result",
          "data": {
            "text/html": [
              "<div>\n",
              "<style scoped>\n",
              "    .dataframe tbody tr th:only-of-type {\n",
              "        vertical-align: middle;\n",
              "    }\n",
              "\n",
              "    .dataframe tbody tr th {\n",
              "        vertical-align: top;\n",
              "    }\n",
              "\n",
              "    .dataframe thead th {\n",
              "        text-align: right;\n",
              "    }\n",
              "</style>\n",
              "<table border=\"1\" class=\"dataframe\">\n",
              "  <thead>\n",
              "    <tr style=\"text-align: right;\">\n",
              "      <th></th>\n",
              "      <th>count</th>\n",
              "      <th>mean</th>\n",
              "      <th>std</th>\n",
              "      <th>min</th>\n",
              "      <th>25%</th>\n",
              "      <th>50%</th>\n",
              "      <th>75%</th>\n",
              "      <th>max</th>\n",
              "    </tr>\n",
              "  </thead>\n",
              "  <tbody>\n",
              "    <tr>\n",
              "      <th>age</th>\n",
              "      <td>296.0</td>\n",
              "      <td>4.500904e-18</td>\n",
              "      <td>1.001693</td>\n",
              "      <td>-2.826856</td>\n",
              "      <td>-0.720571</td>\n",
              "      <td>0.166286</td>\n",
              "      <td>0.720571</td>\n",
              "      <td>2.494285</td>\n",
              "    </tr>\n",
              "    <tr>\n",
              "      <th>sex</th>\n",
              "      <td>296.0</td>\n",
              "      <td>2.850573e-17</td>\n",
              "      <td>1.001693</td>\n",
              "      <td>-1.443376</td>\n",
              "      <td>-1.443376</td>\n",
              "      <td>0.692820</td>\n",
              "      <td>0.692820</td>\n",
              "      <td>0.692820</td>\n",
              "    </tr>\n",
              "    <tr>\n",
              "      <th>cp</th>\n",
              "      <td>296.0</td>\n",
              "      <td>1.200241e-16</td>\n",
              "      <td>1.001693</td>\n",
              "      <td>-2.236793</td>\n",
              "      <td>-0.161274</td>\n",
              "      <td>-0.161274</td>\n",
              "      <td>0.876486</td>\n",
              "      <td>0.876486</td>\n",
              "    </tr>\n",
              "    <tr>\n",
              "      <th>treshbps</th>\n",
              "      <td>296.0</td>\n",
              "      <td>6.067781e-16</td>\n",
              "      <td>1.001693</td>\n",
              "      <td>-2.125838</td>\n",
              "      <td>-0.661029</td>\n",
              "      <td>-0.097641</td>\n",
              "      <td>0.465747</td>\n",
              "      <td>3.846075</td>\n",
              "    </tr>\n",
              "    <tr>\n",
              "      <th>chol</th>\n",
              "      <td>296.0</td>\n",
              "      <td>1.997276e-17</td>\n",
              "      <td>1.001693</td>\n",
              "      <td>-2.335451</td>\n",
              "      <td>-0.700414</td>\n",
              "      <td>-0.084871</td>\n",
              "      <td>0.554717</td>\n",
              "      <td>6.089796</td>\n",
              "    </tr>\n",
              "    <tr>\n",
              "      <th>fbs</th>\n",
              "      <td>296.0</td>\n",
              "      <td>7.501507e-19</td>\n",
              "      <td>1.001693</td>\n",
              "      <td>-0.412263</td>\n",
              "      <td>-0.412263</td>\n",
              "      <td>-0.412263</td>\n",
              "      <td>-0.412263</td>\n",
              "      <td>2.425638</td>\n",
              "    </tr>\n",
              "    <tr>\n",
              "      <th>restecg</th>\n",
              "      <td>296.0</td>\n",
              "      <td>2.182939e-16</td>\n",
              "      <td>1.001693</td>\n",
              "      <td>-0.993312</td>\n",
              "      <td>-0.993312</td>\n",
              "      <td>-0.489853</td>\n",
              "      <td>1.020526</td>\n",
              "      <td>1.020526</td>\n",
              "    </tr>\n",
              "    <tr>\n",
              "      <th>thalach</th>\n",
              "      <td>296.0</td>\n",
              "      <td>6.458797e-16</td>\n",
              "      <td>1.001693</td>\n",
              "      <td>-3.433796</td>\n",
              "      <td>-0.694840</td>\n",
              "      <td>0.145397</td>\n",
              "      <td>0.712830</td>\n",
              "      <td>2.284183</td>\n",
              "    </tr>\n",
              "    <tr>\n",
              "      <th>exang</th>\n",
              "      <td>296.0</td>\n",
              "      <td>5.926190e-17</td>\n",
              "      <td>1.001693</td>\n",
              "      <td>-0.692820</td>\n",
              "      <td>-0.692820</td>\n",
              "      <td>-0.692820</td>\n",
              "      <td>1.443376</td>\n",
              "      <td>1.443376</td>\n",
              "    </tr>\n",
              "    <tr>\n",
              "      <th>oldpeak</th>\n",
              "      <td>296.0</td>\n",
              "      <td>-7.951597e-17</td>\n",
              "      <td>1.001693</td>\n",
              "      <td>-0.903399</td>\n",
              "      <td>-0.903399</td>\n",
              "      <td>-0.215316</td>\n",
              "      <td>0.472766</td>\n",
              "      <td>4.429243</td>\n",
              "    </tr>\n",
              "    <tr>\n",
              "      <th>slope</th>\n",
              "      <td>296.0</td>\n",
              "      <td>1.155232e-16</td>\n",
              "      <td>1.001693</td>\n",
              "      <td>-0.973448</td>\n",
              "      <td>-0.973448</td>\n",
              "      <td>0.645320</td>\n",
              "      <td>0.645320</td>\n",
              "      <td>2.264087</td>\n",
              "    </tr>\n",
              "    <tr>\n",
              "      <th>ca</th>\n",
              "      <td>296.0</td>\n",
              "      <td>6.526311e-17</td>\n",
              "      <td>1.001693</td>\n",
              "      <td>-0.718421</td>\n",
              "      <td>-0.718421</td>\n",
              "      <td>-0.718421</td>\n",
              "      <td>0.350185</td>\n",
              "      <td>2.487397</td>\n",
              "    </tr>\n",
              "    <tr>\n",
              "      <th>hsl</th>\n",
              "      <td>296.0</td>\n",
              "      <td>-2.663035e-17</td>\n",
              "      <td>1.001693</td>\n",
              "      <td>-0.890830</td>\n",
              "      <td>-0.890830</td>\n",
              "      <td>-0.890830</td>\n",
              "      <td>1.177293</td>\n",
              "      <td>1.177293</td>\n",
              "    </tr>\n",
              "  </tbody>\n",
              "</table>\n",
              "</div>"
            ],
            "text/plain": [
              "          count          mean       std  ...       50%       75%       max\n",
              "age       296.0  4.500904e-18  1.001693  ...  0.166286  0.720571  2.494285\n",
              "sex       296.0  2.850573e-17  1.001693  ...  0.692820  0.692820  0.692820\n",
              "cp        296.0  1.200241e-16  1.001693  ... -0.161274  0.876486  0.876486\n",
              "treshbps  296.0  6.067781e-16  1.001693  ... -0.097641  0.465747  3.846075\n",
              "chol      296.0  1.997276e-17  1.001693  ... -0.084871  0.554717  6.089796\n",
              "fbs       296.0  7.501507e-19  1.001693  ... -0.412263 -0.412263  2.425638\n",
              "restecg   296.0  2.182939e-16  1.001693  ... -0.489853  1.020526  1.020526\n",
              "thalach   296.0  6.458797e-16  1.001693  ...  0.145397  0.712830  2.284183\n",
              "exang     296.0  5.926190e-17  1.001693  ... -0.692820  1.443376  1.443376\n",
              "oldpeak   296.0 -7.951597e-17  1.001693  ... -0.215316  0.472766  4.429243\n",
              "slope     296.0  1.155232e-16  1.001693  ...  0.645320  0.645320  2.264087\n",
              "ca        296.0  6.526311e-17  1.001693  ... -0.718421  0.350185  2.487397\n",
              "hsl       296.0 -2.663035e-17  1.001693  ... -0.890830  1.177293  1.177293\n",
              "\n",
              "[13 rows x 8 columns]"
            ]
          },
          "metadata": {
            "tags": []
          },
          "execution_count": 34
        }
      ]
    },
    {
      "cell_type": "markdown",
      "metadata": {
        "id": "n997Jp4bogBr"
      },
      "source": [
        "### 데이터를 train과 test로 분리"
      ]
    },
    {
      "cell_type": "code",
      "metadata": {
        "id": "uY1o6fHvr4gt"
      },
      "source": [
        "from sklearn.model_selection import train_test_split"
      ],
      "execution_count": null,
      "outputs": []
    },
    {
      "cell_type": "code",
      "metadata": {
        "colab": {
          "base_uri": "https://localhost:8080/"
        },
        "id": "djGwFbDYr8A4",
        "outputId": "4a471341-40ed-4266-de5e-f5eab18b31a4"
      },
      "source": [
        "X_train, X_test, y_train, y_test = train_test_split(\n",
        "    scaled_feature, target, test_size=.3\n",
        ")\n",
        "print('X_train shape:', X_train.shape)\n",
        "print('y_train shape:', y_train.shape)\n",
        "print('X_test shape:', X_test.shape)\n",
        "print('y_test shape:', y_test.shape)"
      ],
      "execution_count": null,
      "outputs": [
        {
          "output_type": "stream",
          "text": [
            "X_train shape: (207, 13)\n",
            "y_train shape: (207, 1)\n",
            "X_test shape: (89, 13)\n",
            "y_test shape: (89, 1)\n"
          ],
          "name": "stdout"
        }
      ]
    },
    {
      "cell_type": "markdown",
      "metadata": {
        "id": "jtOngFcItJt8"
      },
      "source": [
        "### 모델 생성"
      ]
    },
    {
      "cell_type": "code",
      "metadata": {
        "colab": {
          "base_uri": "https://localhost:8080/"
        },
        "id": "GWaZYEm2tHFF",
        "outputId": "e4aed75d-fe6e-4871-db73-2ad542b565f9"
      },
      "source": [
        "model = Sequential()\n",
        "model.add(Dense(512, input_dim=13, activation='relu'))\n",
        "model.add(Dropout(0.5)) # 과적합 방지를 위한 규제(망각)\n",
        "model.add(Dense(256, activation='relu'))\n",
        "model.add(Dropout(0.5)) # 과적합 방지를 위한 규제(망각)\n",
        "model.add(Dense(128, activation='relu'))\n",
        "model.add(Dropout(0.5)) # 과적합 방지를 위한 규제(망각)\n",
        "model.add(Dense(1, activation='sigmoid'))\n",
        "model.summary()"
      ],
      "execution_count": null,
      "outputs": [
        {
          "output_type": "stream",
          "text": [
            "Model: \"sequential_1\"\n",
            "_________________________________________________________________\n",
            "Layer (type)                 Output Shape              Param #   \n",
            "=================================================================\n",
            "dense_4 (Dense)              (None, 512)               7168      \n",
            "_________________________________________________________________\n",
            "dropout_3 (Dropout)          (None, 512)               0         \n",
            "_________________________________________________________________\n",
            "dense_5 (Dense)              (None, 256)               131328    \n",
            "_________________________________________________________________\n",
            "dropout_4 (Dropout)          (None, 256)               0         \n",
            "_________________________________________________________________\n",
            "dense_6 (Dense)              (None, 128)               32896     \n",
            "_________________________________________________________________\n",
            "dropout_5 (Dropout)          (None, 128)               0         \n",
            "_________________________________________________________________\n",
            "dense_7 (Dense)              (None, 1)                 129       \n",
            "=================================================================\n",
            "Total params: 171,521\n",
            "Trainable params: 171,521\n",
            "Non-trainable params: 0\n",
            "_________________________________________________________________\n"
          ],
          "name": "stdout"
        }
      ]
    },
    {
      "cell_type": "markdown",
      "metadata": {
        "id": "x7TuMr8Lv9A_"
      },
      "source": [
        "### 모델 학습"
      ]
    },
    {
      "cell_type": "code",
      "metadata": {
        "colab": {
          "base_uri": "https://localhost:8080/"
        },
        "id": "bm9x7yFNt4R6",
        "outputId": "90b3f36b-6375-4070-f2fa-19ee6fd90ce4"
      },
      "source": [
        "model.compile(loss='mse', # 손실함수\n",
        "              optimizer='adam', # 정규화기\n",
        "              metrics=['binary_accuracy']) # 평가 기준(학습에 영향 x)\n",
        "fit_hist = model.fit(X_train, y_train, batch_size=50, epochs=50, validation_split=0.2)"
      ],
      "execution_count": null,
      "outputs": [
        {
          "output_type": "stream",
          "text": [
            "Epoch 1/50\n",
            "4/4 [==============================] - 1s 45ms/step - loss: 0.2618 - binary_accuracy: 0.4667 - val_loss: 0.1996 - val_binary_accuracy: 0.8810\n",
            "Epoch 2/50\n",
            "4/4 [==============================] - 0s 7ms/step - loss: 0.2162 - binary_accuracy: 0.7091 - val_loss: 0.1588 - val_binary_accuracy: 0.9048\n",
            "Epoch 3/50\n",
            "4/4 [==============================] - 0s 7ms/step - loss: 0.1867 - binary_accuracy: 0.7394 - val_loss: 0.1300 - val_binary_accuracy: 0.8810\n",
            "Epoch 4/50\n",
            "4/4 [==============================] - 0s 8ms/step - loss: 0.1648 - binary_accuracy: 0.8000 - val_loss: 0.1076 - val_binary_accuracy: 0.9048\n",
            "Epoch 5/50\n",
            "4/4 [==============================] - 0s 8ms/step - loss: 0.1484 - binary_accuracy: 0.8061 - val_loss: 0.0934 - val_binary_accuracy: 0.9048\n",
            "Epoch 6/50\n",
            "4/4 [==============================] - 0s 8ms/step - loss: 0.1520 - binary_accuracy: 0.7697 - val_loss: 0.0869 - val_binary_accuracy: 0.9048\n",
            "Epoch 7/50\n",
            "4/4 [==============================] - 0s 7ms/step - loss: 0.1369 - binary_accuracy: 0.8242 - val_loss: 0.0835 - val_binary_accuracy: 0.9048\n",
            "Epoch 8/50\n",
            "4/4 [==============================] - 0s 7ms/step - loss: 0.1338 - binary_accuracy: 0.8000 - val_loss: 0.0819 - val_binary_accuracy: 0.9048\n",
            "Epoch 9/50\n",
            "4/4 [==============================] - 0s 7ms/step - loss: 0.1316 - binary_accuracy: 0.8121 - val_loss: 0.0806 - val_binary_accuracy: 0.9048\n",
            "Epoch 10/50\n",
            "4/4 [==============================] - 0s 7ms/step - loss: 0.1244 - binary_accuracy: 0.8182 - val_loss: 0.0804 - val_binary_accuracy: 0.8810\n",
            "Epoch 11/50\n",
            "4/4 [==============================] - 0s 10ms/step - loss: 0.1250 - binary_accuracy: 0.8303 - val_loss: 0.0801 - val_binary_accuracy: 0.8810\n",
            "Epoch 12/50\n",
            "4/4 [==============================] - 0s 18ms/step - loss: 0.1223 - binary_accuracy: 0.8121 - val_loss: 0.0805 - val_binary_accuracy: 0.8571\n",
            "Epoch 13/50\n",
            "4/4 [==============================] - 0s 8ms/step - loss: 0.1231 - binary_accuracy: 0.8242 - val_loss: 0.0809 - val_binary_accuracy: 0.8333\n",
            "Epoch 14/50\n",
            "4/4 [==============================] - 0s 8ms/step - loss: 0.1126 - binary_accuracy: 0.8424 - val_loss: 0.0825 - val_binary_accuracy: 0.8333\n",
            "Epoch 15/50\n",
            "4/4 [==============================] - 0s 7ms/step - loss: 0.1072 - binary_accuracy: 0.8667 - val_loss: 0.0855 - val_binary_accuracy: 0.8333\n",
            "Epoch 16/50\n",
            "4/4 [==============================] - 0s 9ms/step - loss: 0.1041 - binary_accuracy: 0.8545 - val_loss: 0.0899 - val_binary_accuracy: 0.8095\n",
            "Epoch 17/50\n",
            "4/4 [==============================] - 0s 7ms/step - loss: 0.0996 - binary_accuracy: 0.8727 - val_loss: 0.0949 - val_binary_accuracy: 0.8095\n",
            "Epoch 18/50\n",
            "4/4 [==============================] - 0s 7ms/step - loss: 0.1019 - binary_accuracy: 0.8606 - val_loss: 0.0994 - val_binary_accuracy: 0.8095\n",
            "Epoch 19/50\n",
            "4/4 [==============================] - 0s 7ms/step - loss: 0.0989 - binary_accuracy: 0.8727 - val_loss: 0.1051 - val_binary_accuracy: 0.8095\n",
            "Epoch 20/50\n",
            "4/4 [==============================] - 0s 7ms/step - loss: 0.0945 - binary_accuracy: 0.8848 - val_loss: 0.1115 - val_binary_accuracy: 0.8095\n",
            "Epoch 21/50\n",
            "4/4 [==============================] - 0s 8ms/step - loss: 0.1024 - binary_accuracy: 0.8727 - val_loss: 0.1167 - val_binary_accuracy: 0.8095\n",
            "Epoch 22/50\n",
            "4/4 [==============================] - 0s 7ms/step - loss: 0.0853 - binary_accuracy: 0.9030 - val_loss: 0.1230 - val_binary_accuracy: 0.8095\n",
            "Epoch 23/50\n",
            "4/4 [==============================] - 0s 7ms/step - loss: 0.0938 - binary_accuracy: 0.8727 - val_loss: 0.1272 - val_binary_accuracy: 0.8095\n",
            "Epoch 24/50\n",
            "4/4 [==============================] - 0s 7ms/step - loss: 0.0957 - binary_accuracy: 0.8606 - val_loss: 0.1282 - val_binary_accuracy: 0.8095\n",
            "Epoch 25/50\n",
            "4/4 [==============================] - 0s 12ms/step - loss: 0.0916 - binary_accuracy: 0.8545 - val_loss: 0.1290 - val_binary_accuracy: 0.8095\n",
            "Epoch 26/50\n",
            "4/4 [==============================] - 0s 7ms/step - loss: 0.0765 - binary_accuracy: 0.8970 - val_loss: 0.1293 - val_binary_accuracy: 0.8333\n",
            "Epoch 27/50\n",
            "4/4 [==============================] - 0s 7ms/step - loss: 0.0858 - binary_accuracy: 0.8970 - val_loss: 0.1284 - val_binary_accuracy: 0.8333\n",
            "Epoch 28/50\n",
            "4/4 [==============================] - 0s 7ms/step - loss: 0.0849 - binary_accuracy: 0.8909 - val_loss: 0.1278 - val_binary_accuracy: 0.8095\n",
            "Epoch 29/50\n",
            "4/4 [==============================] - 0s 7ms/step - loss: 0.0793 - binary_accuracy: 0.8848 - val_loss: 0.1305 - val_binary_accuracy: 0.8095\n",
            "Epoch 30/50\n",
            "4/4 [==============================] - 0s 7ms/step - loss: 0.0793 - binary_accuracy: 0.9091 - val_loss: 0.1332 - val_binary_accuracy: 0.8095\n",
            "Epoch 31/50\n",
            "4/4 [==============================] - 0s 7ms/step - loss: 0.0866 - binary_accuracy: 0.8788 - val_loss: 0.1354 - val_binary_accuracy: 0.8095\n",
            "Epoch 32/50\n",
            "4/4 [==============================] - 0s 7ms/step - loss: 0.0835 - binary_accuracy: 0.8909 - val_loss: 0.1347 - val_binary_accuracy: 0.8095\n",
            "Epoch 33/50\n",
            "4/4 [==============================] - 0s 7ms/step - loss: 0.0716 - binary_accuracy: 0.9030 - val_loss: 0.1336 - val_binary_accuracy: 0.8095\n",
            "Epoch 34/50\n",
            "4/4 [==============================] - 0s 7ms/step - loss: 0.0783 - binary_accuracy: 0.9152 - val_loss: 0.1340 - val_binary_accuracy: 0.8333\n",
            "Epoch 35/50\n",
            "4/4 [==============================] - 0s 7ms/step - loss: 0.0652 - binary_accuracy: 0.9273 - val_loss: 0.1352 - val_binary_accuracy: 0.8333\n",
            "Epoch 36/50\n",
            "4/4 [==============================] - 0s 7ms/step - loss: 0.0799 - binary_accuracy: 0.8848 - val_loss: 0.1371 - val_binary_accuracy: 0.8333\n",
            "Epoch 37/50\n",
            "4/4 [==============================] - 0s 9ms/step - loss: 0.0794 - binary_accuracy: 0.8970 - val_loss: 0.1394 - val_binary_accuracy: 0.8333\n",
            "Epoch 38/50\n",
            "4/4 [==============================] - 0s 8ms/step - loss: 0.0746 - binary_accuracy: 0.9152 - val_loss: 0.1432 - val_binary_accuracy: 0.8333\n",
            "Epoch 39/50\n",
            "4/4 [==============================] - 0s 7ms/step - loss: 0.0649 - binary_accuracy: 0.9273 - val_loss: 0.1473 - val_binary_accuracy: 0.8095\n",
            "Epoch 40/50\n",
            "4/4 [==============================] - 0s 14ms/step - loss: 0.0632 - binary_accuracy: 0.9152 - val_loss: 0.1487 - val_binary_accuracy: 0.8333\n",
            "Epoch 41/50\n",
            "4/4 [==============================] - 0s 9ms/step - loss: 0.0683 - binary_accuracy: 0.9152 - val_loss: 0.1510 - val_binary_accuracy: 0.8333\n",
            "Epoch 42/50\n",
            "4/4 [==============================] - 0s 15ms/step - loss: 0.0718 - binary_accuracy: 0.9091 - val_loss: 0.1514 - val_binary_accuracy: 0.8333\n",
            "Epoch 43/50\n",
            "4/4 [==============================] - 0s 9ms/step - loss: 0.0635 - binary_accuracy: 0.9091 - val_loss: 0.1516 - val_binary_accuracy: 0.8333\n",
            "Epoch 44/50\n",
            "4/4 [==============================] - 0s 8ms/step - loss: 0.0576 - binary_accuracy: 0.9394 - val_loss: 0.1527 - val_binary_accuracy: 0.8333\n",
            "Epoch 45/50\n",
            "4/4 [==============================] - 0s 7ms/step - loss: 0.0812 - binary_accuracy: 0.8848 - val_loss: 0.1535 - val_binary_accuracy: 0.8333\n",
            "Epoch 46/50\n",
            "4/4 [==============================] - 0s 7ms/step - loss: 0.0593 - binary_accuracy: 0.9273 - val_loss: 0.1552 - val_binary_accuracy: 0.8095\n",
            "Epoch 47/50\n",
            "4/4 [==============================] - 0s 9ms/step - loss: 0.0667 - binary_accuracy: 0.9273 - val_loss: 0.1556 - val_binary_accuracy: 0.8095\n",
            "Epoch 48/50\n",
            "4/4 [==============================] - 0s 7ms/step - loss: 0.0513 - binary_accuracy: 0.9515 - val_loss: 0.1559 - val_binary_accuracy: 0.8095\n",
            "Epoch 49/50\n",
            "4/4 [==============================] - 0s 7ms/step - loss: 0.0540 - binary_accuracy: 0.9394 - val_loss: 0.1560 - val_binary_accuracy: 0.8095\n",
            "Epoch 50/50\n",
            "4/4 [==============================] - 0s 8ms/step - loss: 0.0518 - binary_accuracy: 0.9273 - val_loss: 0.1549 - val_binary_accuracy: 0.8095\n"
          ],
          "name": "stdout"
        }
      ]
    },
    {
      "cell_type": "markdown",
      "metadata": {
        "id": "Zvv2T9Kfw6tx"
      },
      "source": [
        "### 결과 확인"
      ]
    },
    {
      "cell_type": "code",
      "metadata": {
        "colab": {
          "base_uri": "https://localhost:8080/",
          "height": 265
        },
        "id": "Q2cpzj7Mv79Z",
        "outputId": "71049064-af9b-4880-cb41-4f72a92ffea5"
      },
      "source": [
        "# train, test accuracy 확인\n",
        "plt.plot(fit_hist.history['binary_accuracy'], label='train')\n",
        "plt.plot(fit_hist.history['val_binary_accuracy'], label='test')\n",
        "plt.legend(loc='best')\n",
        "plt.show()"
      ],
      "execution_count": null,
      "outputs": [
        {
          "output_type": "display_data",
          "data": {
            "image/png": "[encoded data removed]",
            "text/plain": [
              "<Figure size 432x288 with 1 Axes>"
            ]
          },
          "metadata": {
            "tags": [],
            "needs_background": "light"
          }
        }
      ]
    },
    {
      "cell_type": "code",
      "metadata": {
        "colab": {
          "base_uri": "https://localhost:8080/"
        },
        "id": "c8LYSFchwjDT",
        "outputId": "5e0f4446-4b4a-451b-e00a-eea173755edc"
      },
      "source": [
        "# 해당 모델의 loss와 accuracy\n",
        "score = model.evaluate(X_test, y_test, verbose=1)\n",
        "print('Keras DNN model loss:', score[0])\n",
        "print('Keras DNN model accuracy:', score[1])"
      ],
      "execution_count": null,
      "outputs": [
        {
          "output_type": "stream",
          "text": [
            "3/3 [==============================] - 0s 3ms/step - loss: 0.1536 - binary_accuracy: 0.7978\n",
            "Keras DNN model loss: 0.15361681580543518\n",
            "Keras DNN model accuracy: 0.7977527976036072\n"
          ],
          "name": "stdout"
        }
      ]
    },
    {
      "cell_type": "code",
      "metadata": {
        "colab": {
          "base_uri": "https://localhost:8080/"
        },
        "id": "OXhjrkwBMq8V",
        "outputId": "222d8be3-94cc-4677-c914-de250c25a841"
      },
      "source": [
        "# confusion matrix, f1 score 확인\n",
        "from sklearn.metrics import confusion_matrix\n",
        "from sklearn.metrics import f1_score\n",
        "pred = model.predict(X_test)\n",
        "pred = (pred > 0.5)\n",
        "print(confusion_matrix(y_test, pred))\n",
        "print(f1_score(y_test, pred, average='micro'))"
      ],
      "execution_count": null,
      "outputs": [
        {
          "output_type": "stream",
          "text": [
            "[[44  7]\n",
            " [11 27]]\n",
            "0.797752808988764\n"
          ],
          "name": "stdout"
        }
      ]
    },
    {
      "cell_type": "code",
      "metadata": {
        "colab": {
          "base_uri": "https://localhost:8080/"
        },
        "id": "D1H2bn3gNKHf",
        "outputId": "cf12a8dd-c7ec-4820-d7ce-71b1acc849fd"
      },
      "source": [
        "my_sample = np.random.randint(89)\n",
        "sample_data = np.array(X_test.iloc[my_sample])\n",
        "sample_data = sample_data.reshape(-1, 13)\n",
        "print(model.predict(sample_data))\n",
        "print(y_test.iloc[my_sample])"
      ],
      "execution_count": null,
      "outputs": [
        {
          "output_type": "stream",
          "text": [
            "[[0.00614436]]\n",
            "HeartDisease    0\n",
            "Name: 162, dtype: int64\n"
          ],
          "name": "stdout"
        }
      ]
    },
    {
      "cell_type": "code",
      "metadata": {
        "colab": {
          "base_uri": "https://localhost:8080/"
        },
        "id": "HFNXFQIYO-3a",
        "outputId": "f8769754-f067-4bb9-b1aa-0df1012d8f06"
      },
      "source": [
        "my_sample"
      ],
      "execution_count": null,
      "outputs": [
        {
          "output_type": "execute_result",
          "data": {
            "text/plain": [
              "81"
            ]
          },
          "metadata": {
            "tags": []
          },
          "execution_count": 45
        }
      ]
    }
  ]
}
