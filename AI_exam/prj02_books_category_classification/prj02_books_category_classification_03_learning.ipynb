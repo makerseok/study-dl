{
  "nbformat": 4,
  "nbformat_minor": 0,
  "metadata": {
    "colab": {
      "name": "prj02_books_category_classification_03_learning.ipynb",
      "provenance": [],
      "collapsed_sections": []
    },
    "kernelspec": {
      "name": "python3",
      "display_name": "Python 3.7.10 64-bit ('AI_exam': conda)"
    },
    "language_info": {
      "name": "python",
      "version": "3.7.10"
    },
    "accelerator": "GPU",
    "interpreter": {
      "hash": "7cc3ada3f9b596c34bc380dff5f002526be989746fdb90d935b636e5fe984d03"
    }
  },
  "cells": [
    {
      "cell_type": "markdown",
      "metadata": {
        "id": "CHTbxyGmlf_s"
      },
      "source": [
        "## 라이브러리 import"
      ]
    },
    {
      "cell_type": "code",
      "metadata": {
        "id": "ZMyFQZbZk5yH"
      },
      "source": [
        "import pandas as pd\n",
        "import numpy as np\n",
        "import matplotlib.pyplot as plt\n",
        "from tensorflow.keras.models import Sequential\n",
        "from tensorflow.keras.layers import *"
      ],
      "execution_count": 7,
      "outputs": []
    },
    {
      "cell_type": "markdown",
      "metadata": {
        "id": "te6iHIWamLhF"
      },
      "source": [
        "## 데이터 로드"
      ]
    },
    {
      "cell_type": "code",
      "metadata": {
        "colab": {
          "base_uri": "https://localhost:8080/"
        },
        "id": "W3dFdwv7lhmQ",
        "outputId": "a68460c1-8be0-4090-fa69-ae627d466ea3"
      },
      "source": [
        "X_train, X_test, Y_train, Y_test = np.load('./data/nouns_books_data_max_612_size_68561.npy', allow_pickle=True)\n",
        "print(X_train.shape, X_test.shape, Y_train.shape, Y_test.shape)"
      ],
      "execution_count": 8,
      "outputs": [
        {
          "output_type": "stream",
          "name": "stdout",
          "text": [
            "(52547, 612) (5839, 612) (52547, 8) (5839, 8)\n"
          ]
        }
      ]
    },
    {
      "cell_type": "markdown",
      "metadata": {
        "id": "X3MuN6wBoTXS"
      },
      "source": [
        "## 모델생성"
      ]
    },
    {
      "cell_type": "code",
      "metadata": {
        "colab": {
          "base_uri": "https://localhost:8080/"
        },
        "id": "sC7yo_XZmUM6",
        "outputId": "ef2b0bf7-de7b-4dad-fa5a-5c572b734102"
      },
      "source": [
        "model = Sequential()\n",
        "model.add(Embedding(input_dim=68561,   # 단어들을 벡터공간에 배치 / 의미상 유사한 단어들은 가까운 지점으로 매핑 / 연산 가능해짐 / 복잡하고 연산량 많음\n",
        "                    output_dim=350,  # 차원 축소 / 데이터 학습을 위해 차원이 증가하면서 학습데이터 수가 차원의 수보다 적어져 성능이 저하 -> 차원의 저주\n",
        "                    input_length=612))  # CNN의 input_shape과 같음\n",
        "model.add(Conv1D(32, kernel_size=9, padding='same', activation='relu'))  # 주변 값과의 연관성을 분석하기 위해 사용\n",
        "model.add(MaxPool1D(pool_size=1))  # 그냥 Conv 친구라 ㅎㅎ\n",
        "model.add(GRU(128, activation='tanh'))\n",
        "model.add(Dropout(0.6))\n",
        "model.add(Flatten())\n",
        "model.add(Dropout(0.5))\n",
        "model.add(Dense(32, activation='relu'))\n",
        "model.add(Dropout(0.4))\n",
        "model.add(Dense(8, activation='softmax'))\n",
        "print(model.summary())"
      ],
      "execution_count": 9,
      "outputs": [
        {
          "output_type": "stream",
          "name": "stdout",
          "text": [
            "Model: \"sequential_1\"\n_________________________________________________________________\nLayer (type)                 Output Shape              Param #   \n=================================================================\nembedding_1 (Embedding)      (None, 612, 350)          23996350  \n_________________________________________________________________\nconv1d_1 (Conv1D)            (None, 612, 32)           100832    \n_________________________________________________________________\nmax_pooling1d_1 (MaxPooling1 (None, 612, 32)           0         \n_________________________________________________________________\ngru_1 (GRU)                  (None, 128)               62208     \n_________________________________________________________________\ndropout_3 (Dropout)          (None, 128)               0         \n_________________________________________________________________\nflatten_1 (Flatten)          (None, 128)               0         \n_________________________________________________________________\ndropout_4 (Dropout)          (None, 128)               0         \n_________________________________________________________________\ndense_2 (Dense)              (None, 32)                4128      \n_________________________________________________________________\ndropout_5 (Dropout)          (None, 32)                0         \n_________________________________________________________________\ndense_3 (Dense)              (None, 8)                 264       \n=================================================================\nTotal params: 24,163,782\nTrainable params: 24,163,782\nNon-trainable params: 0\n_________________________________________________________________\nNone\n"
          ]
        }
      ]
    },
    {
      "cell_type": "markdown",
      "metadata": {
        "id": "zvTKkKfaw74c"
      },
      "source": [
        "## 모델 학습"
      ]
    },
    {
      "cell_type": "code",
      "metadata": {
        "colab": {
          "base_uri": "https://localhost:8080/"
        },
        "id": "PeSmR4PQpMHP",
        "outputId": "d285abc7-cd44-4e50-ef77-17d70f4b5b7c"
      },
      "source": [
        "model.compile(loss='categorical_crossentropy', optimizer='adam', metrics=['accuracy'])\n",
        "fit_hist = model.fit(X_train, Y_train, batch_size=512, epochs=4, validation_data=(X_test, Y_test))"
      ],
      "execution_count": 10,
      "outputs": [
        {
          "output_type": "stream",
          "name": "stdout",
          "text": [
            "Epoch 1/4\n",
            "103/103 [==============================] - 1446s 14s/step - loss: 1.5749 - accuracy: 0.3774 - val_loss: 0.7869 - val_accuracy: 0.7131\n",
            "Epoch 2/4\n",
            "103/103 [==============================] - 1437s 14s/step - loss: 0.7454 - accuracy: 0.7465 - val_loss: 0.5171 - val_accuracy: 0.8546\n",
            "Epoch 3/4\n",
            "103/103 [==============================] - 1458s 14s/step - loss: 0.4472 - accuracy: 0.8664 - val_loss: 0.4300 - val_accuracy: 0.8952\n",
            "Epoch 4/4\n",
            "103/103 [==============================] - 1442s 14s/step - loss: 0.2900 - accuracy: 0.9227 - val_loss: 0.4817 - val_accuracy: 0.9008\n"
          ]
        }
      ]
    },
    {
      "cell_type": "markdown",
      "metadata": {
        "id": "teEwJbc2xs8H"
      },
      "source": [
        "## 모델 검증 및 저장"
      ]
    },
    {
      "cell_type": "code",
      "metadata": {
        "colab": {
          "base_uri": "https://localhost:8080/"
        },
        "id": "ra6_Avcax2VT",
        "outputId": "bd317ce4-7008-40ce-a7ca-c3ad72179a0a"
      },
      "source": [
        "score = model.evaluate(X_test, Y_test)\n",
        "print(score[1])"
      ],
      "execution_count": 11,
      "outputs": [
        {
          "output_type": "stream",
          "name": "stdout",
          "text": [
            "183/183 [==============================] - 37s 203ms/step - loss: 0.4817 - accuracy: 0.9008\n",
            "0.9008392095565796\n"
          ]
        }
      ]
    },
    {
      "cell_type": "code",
      "metadata": {
        "id": "8SnT17t6xQhk"
      },
      "source": [
        "model.save(f'./models/news_classification_{score[1]:.4f}.h5')"
      ],
      "execution_count": 12,
      "outputs": []
    },
    {
      "cell_type": "code",
      "metadata": {
        "id": "5RMnOooYyGj6"
      },
      "source": [],
      "execution_count": null,
      "outputs": []
    }
  ]
}